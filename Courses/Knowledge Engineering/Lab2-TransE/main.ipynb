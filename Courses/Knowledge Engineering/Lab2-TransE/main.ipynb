{
 "cells": [
  {
   "attachments": {},
   "cell_type": "markdown",
   "metadata": {},
   "source": [
    "# Project 2\n",
    "\n",
    "实现 TransE 算法，在一个不少于 1000 个实体的知识图谱中展示其功效。"
   ]
  },
  {
   "attachments": {},
   "cell_type": "markdown",
   "metadata": {},
   "source": [
    "## Environment Setup"
   ]
  },
  {
   "attachments": {},
   "cell_type": "markdown",
   "metadata": {},
   "source": [
    "Load Python libraries:"
   ]
  },
  {
   "cell_type": "code",
   "execution_count": 1,
   "metadata": {},
   "outputs": [],
   "source": [
    "import os\n",
    "import numpy as np\n",
    "import pandas as pd\n",
    "import tensorflow as tf\n",
    "from tqdm import tqdm\n",
    "\n",
    "os.environ['TF_CPP_MIN_LOG_LEVEL'] = '2'\n",
    "\n",
    "\n",
    "# Utility functions defined in `utils.py`\n",
    "from utils import (\n",
    "    dict_to_namespace,\n",
    "    read_toml,\n",
    "    seed_everything,\n",
    "    download_files,\n",
    "    extract_file,\n",
    "    move_content,\n",
    ")"
   ]
  },
  {
   "attachments": {},
   "cell_type": "markdown",
   "metadata": {},
   "source": [
    "Load dataset/model configurations:"
   ]
  },
  {
   "cell_type": "code",
   "execution_count": 2,
   "metadata": {},
   "outputs": [],
   "source": [
    "config_files = sorted(os.listdir('configs'))\n",
    "configs = {\n",
    "    filename.split('.')[0]: dict_to_namespace(\n",
    "        read_toml(os.path.join('configs', filename))\n",
    "    )\n",
    "    for filename in config_files\n",
    "}\n",
    "\n",
    "DEBUG = False"
   ]
  },
  {
   "attachments": {},
   "cell_type": "markdown",
   "metadata": {},
   "source": [
    "## Datasets\n",
    "\n",
    "We use the de-facto standard datasets for knowledge graph embedding, FB15k-237 and WN18-RR. These 2 datasets are sampled from Freebase and WordNet respectively after removing inverse relations and performing some other preprocessing steps. \n",
    "\n",
    "The data files are in the format of TSV (tab-separated values), where each line represents a triplet (head entity, relation, tail entity)."
   ]
  },
  {
   "cell_type": "code",
   "execution_count": 3,
   "metadata": {},
   "outputs": [],
   "source": [
    "class TripletDataset:\n",
    "    def __init__(self):\n",
    "        self.train_df: pd.DataFrame | None = None\n",
    "        self.val_df: pd.DataFrame | None = None\n",
    "        self.test_df: pd.DataFrame | None = None\n",
    "\n",
    "        self.n_entities: int | None = None\n",
    "        self.n_relations: int | None = None\n",
    "\n",
    "        self.entity2id: dict[str, int] | None = None\n",
    "        self.relation2id: dict[str, int] | None = None\n",
    "        self.id2entity: dict[int, str] | None = None\n",
    "        self.id2relation: dict[int, str] | None = None\n",
    "\n",
    "        self.hrt_train: np.ndarray | None = None\n",
    "        self.hrt_val: np.ndarray | None = None\n",
    "        self.hrt_test: np.ndarray | None = None\n",
    "\n",
    "\n",
    "def load_triplets(dataset: TripletDataset):\n",
    "    def load_df(path):\n",
    "        df = pd.read_csv(path, sep='\\t', header=None)\n",
    "        df.rename(columns={0: 'head', 1: 'relation', 2: 'tail'}, inplace=True)\n",
    "        return df\n",
    "\n",
    "    dataset.train_df = load_df(os.path.join(dataset.local_dir, 'train.txt'))\n",
    "    dataset.val_df = load_df(os.path.join(dataset.local_dir, 'valid.txt'))\n",
    "    dataset.test_df = load_df(os.path.join(dataset.local_dir, 'test.txt'))\n",
    "\n",
    "    df = dataset.train_df\n",
    "    dataset.n_entities = len(set(df['head']) | set(df['tail']))\n",
    "    dataset.n_relations = len(set(df['relation']))\n",
    "\n",
    "    return dataset.train_df, dataset.val_df, dataset.test_df"
   ]
  },
  {
   "attachments": {},
   "cell_type": "markdown",
   "metadata": {},
   "source": [
    "### [FB15k-237](https://download.microsoft.com/download/8/7/0/8700516A-AB3D-4850-B4BB-805C515AECE1/FB15K-237.2.zip): \n",
    "\n",
    "Source:\n",
    "\n",
    "> [Toutanova, K., & Chen, D. (2015). Observed versus latent features for knowledge base and text inference. Proceedings of the 3rd Workshop on Continuous Vector Space Models and Their Compositionality, 57–66.](https://doi.org/10.18653/v1/W15-4007)\n",
    "\n",
    "Statistics:\n",
    "\n",
    "- Number of entities: 14505\n",
    "- Number of relations: 237\n",
    "- Number of triplets: 310079 \n",
    "  - In training set: 272115\n",
    "  - In validation set: 17526\n",
    "  - In testing set: 20438"
   ]
  },
  {
   "cell_type": "code",
   "execution_count": 4,
   "metadata": {},
   "outputs": [
    {
     "name": "stdout",
     "output_type": "stream",
     "text": [
      "Using cached dataset at data/FB15k-237\n"
     ]
    },
    {
     "data": {
      "text/html": [
       "<div>\n",
       "<style scoped>\n",
       "    .dataframe tbody tr th:only-of-type {\n",
       "        vertical-align: middle;\n",
       "    }\n",
       "\n",
       "    .dataframe tbody tr th {\n",
       "        vertical-align: top;\n",
       "    }\n",
       "\n",
       "    .dataframe thead th {\n",
       "        text-align: right;\n",
       "    }\n",
       "</style>\n",
       "<table border=\"1\" class=\"dataframe\">\n",
       "  <thead>\n",
       "    <tr style=\"text-align: right;\">\n",
       "      <th></th>\n",
       "      <th>head</th>\n",
       "      <th>relation</th>\n",
       "      <th>tail</th>\n",
       "    </tr>\n",
       "  </thead>\n",
       "  <tbody>\n",
       "    <tr>\n",
       "      <th>132956</th>\n",
       "      <td>/m/09wz9</td>\n",
       "      <td>/olympics/olympic_sport/athletes./olympics/oly...</td>\n",
       "      <td>/m/09n48</td>\n",
       "    </tr>\n",
       "    <tr>\n",
       "      <th>90139</th>\n",
       "      <td>/m/0cbm64</td>\n",
       "      <td>/award/award_nominee/award_nominations./award/...</td>\n",
       "      <td>/m/02f77y</td>\n",
       "    </tr>\n",
       "    <tr>\n",
       "      <th>45117</th>\n",
       "      <td>/m/0345gh</td>\n",
       "      <td>/education/educational_institution/campuses</td>\n",
       "      <td>/m/0345gh</td>\n",
       "    </tr>\n",
       "  </tbody>\n",
       "</table>\n",
       "</div>"
      ],
      "text/plain": [
       "             head                                           relation   \n",
       "132956   /m/09wz9  /olympics/olympic_sport/athletes./olympics/oly...  \\\n",
       "90139   /m/0cbm64  /award/award_nominee/award_nominations./award/...   \n",
       "45117   /m/0345gh        /education/educational_institution/campuses   \n",
       "\n",
       "             tail  \n",
       "132956   /m/09n48  \n",
       "90139   /m/02f77y  \n",
       "45117   /m/0345gh  "
      ]
     },
     "execution_count": 4,
     "metadata": {},
     "output_type": "execute_result"
    }
   ],
   "source": [
    "class FB15k237(TripletDataset):\n",
    "    url = 'https://download.microsoft.com/download/8/7/0/8700516A-AB3D-4850-B4BB-805C515AECE1/FB15K-237.2.zip'\n",
    "    local_dir = os.path.join('data', 'FB15k-237')\n",
    "    local_path = os.path.join('data', url.split('/')[-1])\n",
    "\n",
    "    def __init__(self):\n",
    "        if os.path.exists(self.local_dir):\n",
    "            print(f'Using cached dataset at {self.local_dir}')\n",
    "        else:\n",
    "            download_files([self.url], 'data', rewrite=True)\n",
    "            extract_file(self.local_path, self.local_dir, remove=True)\n",
    "            move_content(\n",
    "                os.path.join(self.local_dir, 'Release'), self.local_dir, remove=True\n",
    "            )\n",
    "\n",
    "\n",
    "fb15k237 = FB15k237()\n",
    "load_triplets(fb15k237)[0].sample(3)"
   ]
  },
  {
   "attachments": {},
   "cell_type": "markdown",
   "metadata": {},
   "source": [
    "### [WN18-RR](https://github.com/TimDettmers/ConvE/raw/master/WN18RR.tar.gz)\n",
    "\n",
    "Source:\n",
    "\n",
    ">[Dettmers, T., Minervini, P., Stenetorp, P., & Riedel, S. (2018). Convolutional 2D Knowledge Graph Embeddings. Proceedings of the AAAI Conference on Artificial Intelligence, 32(1).](https://doi.org/10.1609/aaai.v32i1.11573)\n",
    "\n",
    "Statistics:\n",
    "\n",
    "- Number of entities: 40559\n",
    "- Number of relations: 11\n",
    "- Number of triples: 92583 \n",
    "  - In training set: 86835\n",
    "  - In validation set: 2824\n",
    "  - In testing set: 2924"
   ]
  },
  {
   "cell_type": "code",
   "execution_count": 5,
   "metadata": {},
   "outputs": [
    {
     "name": "stdout",
     "output_type": "stream",
     "text": [
      "Using cached dataset at data/WN18-RR\n"
     ]
    },
    {
     "data": {
      "text/html": [
       "<div>\n",
       "<style scoped>\n",
       "    .dataframe tbody tr th:only-of-type {\n",
       "        vertical-align: middle;\n",
       "    }\n",
       "\n",
       "    .dataframe tbody tr th {\n",
       "        vertical-align: top;\n",
       "    }\n",
       "\n",
       "    .dataframe thead th {\n",
       "        text-align: right;\n",
       "    }\n",
       "</style>\n",
       "<table border=\"1\" class=\"dataframe\">\n",
       "  <thead>\n",
       "    <tr style=\"text-align: right;\">\n",
       "      <th></th>\n",
       "      <th>head</th>\n",
       "      <th>relation</th>\n",
       "      <th>tail</th>\n",
       "    </tr>\n",
       "  </thead>\n",
       "  <tbody>\n",
       "    <tr>\n",
       "      <th>18409</th>\n",
       "      <td>5600637</td>\n",
       "      <td>_has_part</td>\n",
       "      <td>5602548</td>\n",
       "    </tr>\n",
       "    <tr>\n",
       "      <th>14960</th>\n",
       "      <td>10734568</td>\n",
       "      <td>_derivationally_related_form</td>\n",
       "      <td>1518047</td>\n",
       "    </tr>\n",
       "    <tr>\n",
       "      <th>75968</th>\n",
       "      <td>240184</td>\n",
       "      <td>_derivationally_related_form</td>\n",
       "      <td>2427103</td>\n",
       "    </tr>\n",
       "  </tbody>\n",
       "</table>\n",
       "</div>"
      ],
      "text/plain": [
       "           head                      relation     tail\n",
       "18409   5600637                     _has_part  5602548\n",
       "14960  10734568  _derivationally_related_form  1518047\n",
       "75968    240184  _derivationally_related_form  2427103"
      ]
     },
     "execution_count": 5,
     "metadata": {},
     "output_type": "execute_result"
    }
   ],
   "source": [
    "class WN18RR(TripletDataset):\n",
    "    url = 'https://github.com/TimDettmers/ConvE/raw/master/WN18RR.tar.gz'\n",
    "    local_dir = os.path.join('data', 'WN18-RR')\n",
    "    local_path = os.path.join('data', url.split('/')[-1])\n",
    "\n",
    "    def __init__(self):\n",
    "        if os.path.exists(self.local_dir):\n",
    "            print(f'Using cached dataset at {self.local_dir}')\n",
    "        else:\n",
    "            download_files([self.url], 'data', rewrite=True)\n",
    "            extract_file(self.local_path, self.local_dir, remove=True)\n",
    "\n",
    "\n",
    "wn18rr = WN18RR()\n",
    "load_triplets(wn18rr)[0].sample(3)"
   ]
  },
  {
   "attachments": {},
   "cell_type": "markdown",
   "metadata": {},
   "source": [
    "## Preprocessing"
   ]
  },
  {
   "attachments": {},
   "cell_type": "markdown",
   "metadata": {},
   "source": [
    "Map entities and relations to unique integer IDs:"
   ]
  },
  {
   "cell_type": "code",
   "execution_count": 6,
   "metadata": {},
   "outputs": [
    {
     "name": "stdout",
     "output_type": "stream",
     "text": [
      "Mapping from relation to integer:\n"
     ]
    },
    {
     "data": {
      "text/plain": [
       "{'_similar_to': 0,\n",
       " '_instance_hypernym': 1,\n",
       " '_derivationally_related_form': 2,\n",
       " '_member_meronym': 3,\n",
       " '_synset_domain_topic_of': 4,\n",
       " '_also_see': 5,\n",
       " '_hypernym': 6,\n",
       " '_has_part': 7,\n",
       " '_member_of_domain_region': 8,\n",
       " '_verb_group': 9,\n",
       " '_member_of_domain_usage': 10}"
      ]
     },
     "execution_count": 6,
     "metadata": {},
     "output_type": "execute_result"
    }
   ],
   "source": [
    "def map_to_hrt(dataset: TripletDataset):\n",
    "    # get mappings between entities and integer ids\n",
    "    df = dataset.train_df\n",
    "    dataset.entity2id = {e: i for i, e in enumerate(set(df['head']) | set(df['tail']))}\n",
    "    dataset.id2entity = {v: k for k, v in dataset.entity2id.items()}\n",
    "    # get mappings between relations and integer ids\n",
    "    df = dataset.train_df\n",
    "    dataset.relation2id = {r: i for i, r in enumerate(set(df['relation']))}\n",
    "    dataset.id2relation = {v: k for k, v in dataset.relation2id.items()}\n",
    "\n",
    "    # convert dataframes to numpy arrays of integer ids\n",
    "    def df2hrt(df: pd.DataFrame):\n",
    "        df = df.copy()\n",
    "        df['head'] = df['head'].map(dataset.entity2id, na_action='ignore')\n",
    "        df['relation'] = df['relation'].map(dataset.relation2id, na_action='ignore')\n",
    "        df['tail'] = df['tail'].map(dataset.entity2id, na_action='ignore')\n",
    "        # remove out-of-vocabulary items\n",
    "        df.dropna(inplace=True)\n",
    "        return np.asarray(df, dtype=np.int32)\n",
    "\n",
    "    dataset.hrt_train = df2hrt(dataset.train_df)\n",
    "    dataset.hrt_val = df2hrt(dataset.val_df)\n",
    "    dataset.hrt_test = df2hrt(dataset.test_df)\n",
    "\n",
    "    return (\n",
    "        dataset.hrt_train,\n",
    "        dataset.hrt_val,\n",
    "        dataset.hrt_test,\n",
    "        dataset.entity2id,\n",
    "        dataset.relation2id,\n",
    "    )\n",
    "\n",
    "\n",
    "print('Mapping from relation to integer:')\n",
    "map_to_hrt(wn18rr)[4]"
   ]
  },
  {
   "attachments": {},
   "cell_type": "markdown",
   "metadata": {},
   "source": [
    "To support downstream tasks such as knowledge graph completion, our model should be trained to distinguish between positive and negative triplets sampled from the dataset. Following the paradigm of most existing works, we first construct a training set consisting of positive-negative triplet pairs.\n",
    "\n",
    "Since negative triples are not explicitly provided, we adopt the widely used strategy to generate negative triplets by corrupting either the head or tail entity of a positive one."
   ]
  },
  {
   "attachments": {},
   "cell_type": "markdown",
   "metadata": {},
   "source": [
    "### Bernoulli Negative Sampling\n",
    "\n",
    "Original paper:\n",
    ">[Wang, Z., Zhang, J., Feng, J., & Chen, Z. (2014). Knowledge Graph Embedding by Translating on Hyperplanes. Proceedings of the AAAI Conference on Artificial Intelligence, 28(1), Article 1.](https://doi.org/10.1609/aaai.v28i1.8870)\n",
    "\n",
    "The choice of corrupting the head $h$ or tail $t$ in a triplet $(h,r,t)$\n",
    "is determined by the following heuristic:\n",
    "\n",
    "- If $r$ is a _one-to-many_ relation, a higher probability should be assigned to replace the head $h$\n",
    "- If $r$ is a _many-to-one_ relation, a higher probability should be assigned to replace the tail $t$.\n",
    "\n",
    "To be specific, given a relation $r \\in \\mathcal{R}$, the average number of tails per head\n",
    "(i.e. $\\mathtt{tph}$) and heads per tail (i.e. $\\mathtt{hpt}$) are first computed. Then, the probabilities of corrupting the head or tail are defined as $\\frac{\\mathtt{tph}}{\\mathtt{tph}+\\mathtt{hpt}}$ and $\\frac{\\mathtt{hpt}}{\\mathtt{tph}+\\mathtt{hpt}}$ respectively.\n",
    "\n",
    "In this way, the chance of generating false negative samples is reduced.\n"
   ]
  },
  {
   "cell_type": "code",
   "execution_count": 7,
   "metadata": {},
   "outputs": [
    {
     "name": "stdout",
     "output_type": "stream",
     "text": [
      "Probabilities of corrupting head entities:\n"
     ]
    },
    {
     "data": {
      "text/plain": [
       "array([0.496732  , 0.14076655, 0.50010866, 0.703402  , 0.0941786 ,\n",
       "       0.52677375, 0.21822526, 0.6685657 , 0.8844985 , 0.5005107 ,\n",
       "       0.9596123 ], dtype=float32)"
      ]
     },
     "execution_count": 7,
     "metadata": {},
     "output_type": "execute_result"
    }
   ],
   "source": [
    "class BernNegSampler:\n",
    "    def __init__(self, dataset: TripletDataset, n_neg_samples: int = 1):\n",
    "        self.n_neg_samples = n_neg_samples\n",
    "        self.n_entities = len(dataset.entity2id)\n",
    "        self.n_relations = len(dataset.relation2id)\n",
    "\n",
    "        # compute probabilities of corrupting head entity\n",
    "        hrt = dataset.hrt_train\n",
    "        hr_unique, hr_counts = np.unique(hrt[:, :2], axis=0, return_counts=True)\n",
    "        rt_unique, rt_counts = np.unique(hrt[:, 1:], axis=0, return_counts=True)\n",
    "        r_tph = np.asarray(\n",
    "            [hr_counts[hr_unique[:, 1] == r].mean() for r in range(self.n_relations)],\n",
    "            dtype=np.float32,\n",
    "        )\n",
    "        r_hpt = np.asarray(\n",
    "            [rt_counts[rt_unique[:, 0] == r].mean() for r in range(self.n_relations)],\n",
    "            dtype=np.float32,\n",
    "        )\n",
    "        self.head_corrupt_prob = r_tph / (r_tph + r_hpt)\n",
    "\n",
    "    def __call__(self, pos: tf.Tensor):\n",
    "        '''\n",
    "        - Input: a batch of positive triplets (shape: [batch_size, 3])\n",
    "        - Output: a batch of negative triplets (shape: [batch_size, n_neg_per_pos, 3])\n",
    "        '''\n",
    "        n_neg = tf.shape(pos)[0] * self.n_neg_samples\n",
    "        neg_h = tf.repeat(pos[:, 0], self.n_neg_samples, axis=0)\n",
    "        neg_r = tf.repeat(pos[:, 1], self.n_neg_samples, axis=0)\n",
    "        neg_t = tf.repeat(pos[:, 2], self.n_neg_samples, axis=0)\n",
    "\n",
    "        # corrupt head or tail\n",
    "        pos_prob = tf.gather(self.head_corrupt_prob, pos[:, 1])\n",
    "        neg_prob = tf.repeat(pos_prob, self.n_neg_samples, axis=0)\n",
    "        mask = tf.random.uniform((n_neg,)) < neg_prob\n",
    "        repl = tf.random.uniform((n_neg,), maxval=self.n_entities, dtype=tf.int32)\n",
    "        neg_h = tf.where(mask, repl, neg_h)\n",
    "        neg_t = tf.where(mask, neg_t, repl)\n",
    "\n",
    "        neg = tf.stack([neg_h, neg_r, neg_t], axis=1)\n",
    "        neg = tf.reshape(neg, (-1, self.n_neg_samples, 3))\n",
    "        return neg\n",
    "\n",
    "\n",
    "wn18rr_sampler = BernNegSampler(wn18rr, 10)\n",
    "print('Probabilities of corrupting head entities:')\n",
    "wn18rr_sampler.head_corrupt_prob"
   ]
  },
  {
   "attachments": {},
   "cell_type": "markdown",
   "metadata": {},
   "source": [
    "Convert to TensorFlow data loader of type `tf.data.Dataset`:"
   ]
  },
  {
   "cell_type": "code",
   "execution_count": 8,
   "metadata": {},
   "outputs": [
    {
     "name": "stdout",
     "output_type": "stream",
     "text": [
      "Negative samples:\n"
     ]
    },
    {
     "data": {
      "text/plain": [
       "array([[19573,     2, 31221],\n",
       "       [19573,     2, 28786],\n",
       "       [19573,     2, 30302],\n",
       "       [35551,     2, 14226],\n",
       "       [ 1497,     2, 14226],\n",
       "       [12317,     2, 14226],\n",
       "       [19573,     2,  8059],\n",
       "       [19573,     2,  6723],\n",
       "       [12168,     2, 14226],\n",
       "       [19573,     2, 18207]], dtype=int32)"
      ]
     },
     "execution_count": 8,
     "metadata": {},
     "output_type": "execute_result"
    }
   ],
   "source": [
    "def create_ds(dataset: TripletDataset, n_batches, sampler):\n",
    "    if len(dataset.hrt_train) % n_batches != 0:\n",
    "        batch_size = len(dataset.hrt_train) // (n_batches - 1)\n",
    "    else:\n",
    "        batch_size = len(dataset.hrt_train) // n_batches\n",
    "\n",
    "    def hrt2ds(hrt: np.ndarray):\n",
    "        ds = tf.data.Dataset.from_tensor_slices(hrt)\n",
    "        ds = ds.shuffle(len(hrt)).batch(batch_size)\n",
    "        ds = ds.map(lambda x: {'pos': x, 'neg': sampler(x)})\n",
    "        ds = ds.prefetch(tf.data.AUTOTUNE)\n",
    "        return ds\n",
    "\n",
    "    train_ds = hrt2ds(dataset.hrt_train)\n",
    "    val_ds = hrt2ds(dataset.hrt_val)\n",
    "    test_ds = hrt2ds(dataset.hrt_test)\n",
    "\n",
    "    return train_ds, val_ds, test_ds\n",
    "\n",
    "\n",
    "print('Negative samples:')\n",
    "create_ds(wn18rr, 100, wn18rr_sampler)[0].as_numpy_iterator().next()['neg'][0]"
   ]
  },
  {
   "attachments": {},
   "cell_type": "markdown",
   "metadata": {},
   "source": [
    "## Implementation of TransE\n",
    "\n",
    "Original paper:\n",
    "> [Bordes, A., Usunier, N., Garcia-Duran, A., Weston, J., & Yakhnenko, O. (2013). Translating Embeddings for Modeling Multi-relational Data. Advances in Neural Information Processing Systems, 26.](https://proceedings.neurips.cc/paper_files/paper/2013/hash/1cecc7a77928ca8133fa24680a88d2f9-Abstract.html)\n",
    "\n",
    "Given a training set $S$ of triplets $(h, r, t)$ composed of two entities $h, t \\in E$ and a relation $r \\in R$, the TransE model learns vector embeddings of the entities and the relations. The embeddings take values in $\\mathbb{R}^k$ ($k$ is a hyperparameter, i.e. `embed_dim`). We  denote the embeddings with the same letters in boldface characters. The basic idea behind TranE is that the mapping between entities induced by the $r$-labeled edges corresponds to a translation of the embeddings. Specifically, we want\n",
    "\n",
    "- If $(h, r, t) \\in S$, i.e. $(h, r, t)$ is a positive triplet, then $\\mathbf{h} + \\mathbf{r}$ should be close to $\\mathbf{t}$.\n",
    "- If $(h, r, t) \\notin S$, i.e. $(h, r, t)$ is a negative triplet, then $\\mathbf{h} + \\mathbf{r}$ and $\\mathbf{t}$ should be far apart.\n",
    "\n",
    "Following an energy-based framework, the energy of a triplet is equal to $d(\\mathbf{h} + \\mathbf{r}, \\mathbf{t})$ for some dissimilarity measure $d$, which we take to be the $L_p$ norm ($p$ is a hyperparameter, i.e. `norm_ord`) of $\\mathbf{h} + \\mathbf{r} - \\mathbf{t}$. The objective function is then defined as the margin-based ranking loss:\n",
    "\n",
    "$$\n",
    "\\mathcal{L} = \\sum_{(h, r, t) \\in S} \\sum_{(h', r, t') \\in S^-_{(h, r, t)}} \\mathrm{ReLU}(\\gamma + d(\\mathbf{h} + \\mathbf{r}, \\mathbf{t}) - d(\\mathbf{h'} + \\mathbf{r}, \\mathbf{t'}))\n",
    "$$\n",
    "\n",
    "where $S^-_{(h, r, t)}$ is the set of negative triplets generated by corrupting $(h, r, t)$, and $\\gamma$ is a hyperparameter representing the desired `margin`.\n",
    "\n",
    "We use the same initialization and optimization strategy as suggested in the original paper. Details can be found in the code below.\n"
   ]
  },
  {
   "cell_type": "code",
   "execution_count": 9,
   "metadata": {},
   "outputs": [],
   "source": [
    "from keras import Model\n",
    "from keras.layers import Embedding\n",
    "\n",
    "\n",
    "class TransE(Model):\n",
    "    @staticmethod\n",
    "    def embed_initializer(shape, dtype=None):\n",
    "        limit = 6 / np.sqrt(shape[1])\n",
    "        values = tf.random.uniform(shape, minval=-limit, maxval=limit, dtype=dtype)\n",
    "        values = tf.math.l2_normalize(values, axis=1)\n",
    "        return values\n",
    "\n",
    "    def __init__(self, n_entities, n_relations, embed_dim, norm_ord=1, margin=1.0):\n",
    "        super().__init__()\n",
    "        self.n_entities = n_entities\n",
    "        self.n_relations = n_relations\n",
    "        self.embed_dim = embed_dim\n",
    "        self.norm_ord = norm_ord\n",
    "        self.margin = margin\n",
    "\n",
    "        self.entity_embed = Embedding(\n",
    "            n_entities,\n",
    "            embed_dim,\n",
    "            embeddings_initializer=self.embed_initializer,\n",
    "            name='entity_embed',\n",
    "        )\n",
    "        self.relation_embed = Embedding(\n",
    "            n_relations,\n",
    "            embed_dim,\n",
    "            embeddings_initializer=self.embed_initializer,\n",
    "            name='relation_embed',\n",
    "        )\n",
    "\n",
    "        self.build((None, 3))\n",
    "        self.compile()\n",
    "\n",
    "    def call(self, hrt):\n",
    "        '''\n",
    "        Look up translating embeddings for head, relation, and tail.\n",
    "        '''\n",
    "        h, r, t = tf.unstack(hrt, axis=-1)\n",
    "        h = self.entity_embed(h)\n",
    "        r = self.relation_embed(r)\n",
    "        t = self.entity_embed(t)\n",
    "        return h, r, t\n",
    "\n",
    "    def score(self, hrt):\n",
    "        '''\n",
    "        Compute the confidence score of a triple. (negative of dissimilarity/energy)\n",
    "        '''\n",
    "        h, r, t = self(hrt)\n",
    "        return -tf.norm(h + r - t, ord=self.norm_ord, axis=-1)\n",
    "\n",
    "    def margin_loss(self, pos, neg):\n",
    "        '''\n",
    "        Compute the averaged margin loss between each positive and its corresponding negatives.\n",
    "        '''\n",
    "        pos_score = tf.repeat(self.score(pos), tf.shape(neg)[1], axis=0)\n",
    "        neg_score = tf.reshape(self.score(neg), (-1,))\n",
    "        return tf.reduce_mean(tf.nn.relu(neg_score + self.margin - pos_score))\n",
    "\n",
    "    def train_step(self, data):\n",
    "        # normalize entity embeddings\n",
    "        self.entity_embed.embeddings.assign(\n",
    "            tf.math.l2_normalize(self.entity_embed.embeddings, axis=1)\n",
    "        )\n",
    "\n",
    "        with tf.GradientTape() as tape:\n",
    "            loss = self.margin_loss(data['pos'], data['neg'])\n",
    "\n",
    "        grads = tape.gradient(loss, self.trainable_variables)\n",
    "        self.optimizer.apply_gradients(zip(grads, self.trainable_variables))\n",
    "\n",
    "        return {'loss': loss}\n",
    "\n",
    "    def test_step(self, data):\n",
    "        return {'loss': self.margin_loss(data['pos'], data['neg'])}\n",
    "\n",
    "    def fit(self, train_ds, val_ds, optimizer, n_epochs, **kwargs):\n",
    "        self.optimizer = optimizer\n",
    "        return super().fit(\n",
    "            x=train_ds,\n",
    "            y=None,\n",
    "            validation_data=val_ds,\n",
    "            epochs=n_epochs,\n",
    "            **kwargs,\n",
    "        )"
   ]
  },
  {
   "attachments": {},
   "cell_type": "markdown",
   "metadata": {},
   "source": [
    "### Training Pipeline"
   ]
  },
  {
   "cell_type": "code",
   "execution_count": null,
   "metadata": {},
   "outputs": [],
   "source": [
    "from keras.optimizers import SGD, Adam\n",
    "from keras.callbacks import ReduceLROnPlateau, EarlyStopping, TensorBoard, CSVLogger\n",
    "\n",
    "\n",
    "def run_experiment(name, config):\n",
    "    seed_everything(config.seed)\n",
    "\n",
    "    # prepare dataset\n",
    "    if config.dataset == 'FB15k-237':\n",
    "        dataset = FB15k237()\n",
    "    elif config.dataset == 'WN18-RR':\n",
    "        dataset = WN18RR()\n",
    "    else:\n",
    "        raise NotImplementedError()\n",
    "    load_triplets(dataset)\n",
    "    map_to_hrt(dataset)\n",
    "\n",
    "    # prepare negative sampler\n",
    "    if config.neg_sampler == 'bernoulli':\n",
    "        sampler = BernNegSampler(dataset, config.n_neg_samples)\n",
    "    else:\n",
    "        raise NotImplementedError()\n",
    "    train_ds, val_ds, test_ds = create_ds(dataset, config.n_batches, sampler)\n",
    "\n",
    "    # define model\n",
    "    model = TransE(\n",
    "        n_entities=dataset.n_entities,\n",
    "        n_relations=dataset.n_relations,\n",
    "        embed_dim=config.embed_dim,\n",
    "        norm_ord=config.norm_ord,\n",
    "        margin=config.margin,\n",
    "    )\n",
    "\n",
    "    # use checkpoint or train model\n",
    "    ckpt_path = os.path.join('output', name, 'checkpoint.keras')\n",
    "    csv_path = os.path.join('output', name, 'loss.csv')\n",
    "    log_path = os.path.join('output', name, 'logs')\n",
    "    if os.path.exists(ckpt_path):\n",
    "        print(f'Using pre-trained model at {ckpt_path}')\n",
    "        model.load_weights(ckpt_path)\n",
    "    else:\n",
    "        print(f'Training model {name}')\n",
    "\n",
    "        if config.optimizer == 'sgd':\n",
    "            optimizer = SGD(learning_rate=config.learning_rate)\n",
    "        elif config.optimizer == 'adam':\n",
    "            optimizer = Adam(learning_rate=config.learning_rate)\n",
    "        else:\n",
    "            raise NotImplementedError()\n",
    "\n",
    "        callbacks = [\n",
    "            ReduceLROnPlateau(\n",
    "                monitor='val_loss',\n",
    "                factor=0.1,\n",
    "                patience=10,\n",
    "                min_lr=1e-4,\n",
    "            ),\n",
    "            EarlyStopping(\n",
    "                monitor='val_loss',\n",
    "                patience=80,\n",
    "                restore_best_weights=True,\n",
    "            ),\n",
    "            CSVLogger(csv_path),\n",
    "            TensorBoard(log_path),\n",
    "        ]\n",
    "\n",
    "        model.fit(\n",
    "            train_ds=train_ds,\n",
    "            val_ds=val_ds,\n",
    "            optimizer=optimizer,\n",
    "            n_epochs=config.n_epochs,\n",
    "            callbacks=callbacks,\n",
    "        )\n",
    "        model.save_weights(ckpt_path)\n",
    "        print(f'Saved model at {ckpt_path}')\n",
    "\n",
    "    return model, dataset, train_ds, val_ds, test_ds\n",
    "\n",
    "\n",
    "# Training\n",
    "for name, config in configs.items():\n",
    "    if DEBUG and name != 'DEBUG' or not DEBUG and name == 'DEBUG':\n",
    "        continue\n",
    "    print('=' * 80)\n",
    "    print(f'Running experiment: {name}')\n",
    "    display(vars(config))\n",
    "    run_experiment(name, config)\n",
    "print('=' * 80)"
   ]
  },
  {
   "attachments": {},
   "cell_type": "markdown",
   "metadata": {},
   "source": [
    "### Learning Curves"
   ]
  },
  {
   "cell_type": "code",
   "execution_count": 11,
   "metadata": {},
   "outputs": [
    {
     "name": "stdout",
     "output_type": "stream",
     "text": [
      "================================================================================\n",
      "Plotting loss for TransE_FB15k-237_Adam\n"
     ]
    },
    {
     "data": {
      "image/png": "[encoded data removed]",
      "text/plain": [
       "<Figure size 600x400 with 1 Axes>"
      ]
     },
     "metadata": {},
     "output_type": "display_data"
    },
    {
     "name": "stdout",
     "output_type": "stream",
     "text": [
      "================================================================================\n",
      "Plotting loss for TransE_FB15k-237_SGD\n"
     ]
    },
    {
     "data": {
      "image/png": "[encoded data removed]",
      "text/plain": [
       "<Figure size 600x400 with 1 Axes>"
      ]
     },
     "metadata": {},
     "output_type": "display_data"
    },
    {
     "name": "stdout",
     "output_type": "stream",
     "text": [
      "================================================================================\n",
      "Plotting loss for TransE_WN18-RR_Adam\n"
     ]
    },
    {
     "data": {
      "image/png": "[encoded data removed]",
      "text/plain": [
       "<Figure size 600x400 with 1 Axes>"
      ]
     },
     "metadata": {},
     "output_type": "display_data"
    },
    {
     "name": "stdout",
     "output_type": "stream",
     "text": [
      "================================================================================\n",
      "Plotting loss for TransE_WN18-RR_SGD\n"
     ]
    },
    {
     "data": {
      "image/png": "[encoded data removed]",
      "text/plain": [
       "<Figure size 600x400 with 1 Axes>"
      ]
     },
     "metadata": {},
     "output_type": "display_data"
    },
    {
     "name": "stdout",
     "output_type": "stream",
     "text": [
      "================================================================================\n"
     ]
    }
   ],
   "source": [
    "import matplotlib.pyplot as plt\n",
    "\n",
    "for name in configs.keys():\n",
    "    if DEBUG and name != 'DEBUG' or not DEBUG and name == 'DEBUG':\n",
    "        continue\n",
    "    print('=' * 80)\n",
    "    print(f'Plotting loss for {name}')\n",
    "    csv_path = os.path.join('output', name, 'loss.csv')\n",
    "    if not os.path.exists(csv_path):\n",
    "        print(f'No logs found for {name}, skipping')\n",
    "        continue\n",
    "\n",
    "    logs = pd.read_csv(csv_path)\n",
    "    plt.figure(figsize=(6, 4))\n",
    "    plt.plot(logs['loss'], color='b', linestyle='-', label='Train')\n",
    "    plt.plot(logs['val_loss'], color='r', linestyle='-', label='Validation')\n",
    "    plt.xlabel('Epochs')\n",
    "    plt.ylabel('Loss')\n",
    "    plt.legend()\n",
    "    plt.tight_layout()\n",
    "    plt.show()\n",
    "print('=' * 80)"
   ]
  },
  {
   "attachments": {},
   "cell_type": "markdown",
   "metadata": {},
   "source": [
    "## Evaluation\n",
    "\n",
    "We report the model performance on link prediction task by computing Hits@10 metric on the test set.\n"
   ]
  },
  {
   "attachments": {},
   "cell_type": "markdown",
   "metadata": {},
   "source": [
    "### Hits@10\n",
    "\n",
    "Following the evaluation protocol in the original paper, we first replace the head entity of a test triplet with entities in the dataset to generate corrupted triplets. Then, we compute the confidence scores of those corrupted triplets and check whether the correct triplet is ranked in the top 10. We report the proportion of correct triplets ranked in the top 10 as Hits@10 (Left). The whole procedure is repeated while replacing the tail entity instead of the head, resulting in Hits@10 (Right)."
   ]
  },
  {
   "attachments": {},
   "cell_type": "markdown",
   "metadata": {},
   "source": [
    "### Mean Reciprocal Rank (MRR)\n",
    "\n",
    "We also report the MRR of the correct triplets, which is defined as the average of the reciprocal ranks of the correct triplets, i.e.\n",
    "\n",
    "$$\n",
    "\\mathrm{MRR} = \\frac{1}{|S|} \\sum_{(h, r, t) \\in S} \\frac{1}{\\mathrm{rank}_{(h, r, t)}}\n",
    "$$\n",
    "\n",
    "where $\\mathrm{rank}_{(h, r, t)}$ is the rank of the correct triplet $(h, r, t)$ in the ranked list of all corrupted triplets."
   ]
  },
  {
   "attachments": {},
   "cell_type": "markdown",
   "metadata": {},
   "source": [
    "### False Negative Filtering\n",
    "\n",
    "When corrupting triplets for ranking, we may accidentally generate false negative samples which appear in the training/validation/testing set and thereby rank higher than the correct triplet. To avoid this misleading behavior, we filter out false negative samples by creating a lookup table as follows:"
   ]
  },
  {
   "cell_type": "code",
   "execution_count": 12,
   "metadata": {},
   "outputs": [],
   "source": [
    "class FalseNegFilter:\n",
    "    def __init__(self, dataset: TripletDataset):\n",
    "        triplet_df = pd.DataFrame(\n",
    "            np.concatenate(\n",
    "                [\n",
    "                    dataset.hrt_train,\n",
    "                    dataset.hrt_val,\n",
    "                    dataset.hrt_test,\n",
    "                ]\n",
    "            ),\n",
    "            columns=['h', 'r', 't'],\n",
    "        )\n",
    "        self.n_entities = dataset.n_entities\n",
    "        # given r and t, look up all positive h\n",
    "        self.head_lookup_df = triplet_df.groupby(['r', 't'])['h'].apply(set)\n",
    "        self.tail_lookup_df = triplet_df.groupby(['r', 'h'])['t'].apply(set)\n",
    "\n",
    "    def head_mask(self, h, r, t):\n",
    "        mask = np.zeros(self.n_entities, dtype=bool)\n",
    "        if (r, t) in self.head_lookup_df:\n",
    "            indices = list(self.head_lookup_df[r, t] - {h})\n",
    "            mask[indices] = True\n",
    "        return mask\n",
    "\n",
    "    def tail_mask(self, h, r, t):\n",
    "        mask = np.zeros(self.n_entities, dtype=bool)\n",
    "        if (r, h) in self.tail_lookup_df:\n",
    "            indices = list(self.tail_lookup_df[r, h] - {t})\n",
    "            mask[indices] = True\n",
    "        return mask"
   ]
  },
  {
   "cell_type": "code",
   "execution_count": 13,
   "metadata": {},
   "outputs": [
    {
     "name": "stdout",
     "output_type": "stream",
     "text": [
      "================================================================================\n",
      "Evaluating model TransE_FB15k-237_Adam\n",
      "Using cached dataset at data/FB15k-237\n",
      "Using pre-trained model at output/TransE_FB15k-237_Adam/checkpoint.keras\n"
     ]
    },
    {
     "name": "stderr",
     "output_type": "stream",
     "text": [
      "                                                      \r"
     ]
    },
    {
     "name": "stdout",
     "output_type": "stream",
     "text": [
      "- Training Loss        0.0377\n",
      "- Validation Loss      0.2622\n",
      "- Testing Loss         0.2599\n",
      "- MRR (Left)           0.1550\n",
      "- MRR (Right)          0.3603\n",
      "- MRR                  0.2577\n",
      "- Hits@10 (Left)       0.2916\n",
      "- Hits@10 (Right)      0.5364\n",
      "- Hits@10              0.4140\n",
      "================================================================================\n",
      "Evaluating model TransE_FB15k-237_SGD\n",
      "Using cached dataset at data/FB15k-237\n",
      "Using pre-trained model at output/TransE_FB15k-237_SGD/checkpoint.keras\n"
     ]
    },
    {
     "name": "stderr",
     "output_type": "stream",
     "text": [
      "                                                      \r"
     ]
    },
    {
     "name": "stdout",
     "output_type": "stream",
     "text": [
      "- Training Loss        0.1870\n",
      "- Validation Loss      0.4312\n",
      "- Testing Loss         0.4163\n",
      "- MRR (Left)           0.1235\n",
      "- MRR (Right)          0.3099\n",
      "- MRR                  0.2167\n",
      "- Hits@10 (Left)       0.2270\n",
      "- Hits@10 (Right)      0.4707\n",
      "- Hits@10              0.3489\n",
      "================================================================================\n",
      "Evaluating model TransE_WN18-RR_Adam\n",
      "Using cached dataset at data/WN18-RR\n",
      "Using pre-trained model at output/TransE_WN18-RR_Adam/checkpoint.keras\n"
     ]
    },
    {
     "name": "stderr",
     "output_type": "stream",
     "text": [
      "                                                    \r"
     ]
    },
    {
     "name": "stdout",
     "output_type": "stream",
     "text": [
      "- Training Loss        0.4373\n",
      "- Validation Loss      1.8209\n",
      "- Testing Loss         1.7268\n",
      "- MRR (Left)           0.2252\n",
      "- MRR (Right)          0.2708\n",
      "- MRR                  0.2480\n",
      "- Hits@10 (Left)       0.5017\n",
      "- Hits@10 (Right)      0.5626\n",
      "- Hits@10              0.5321\n",
      "================================================================================\n",
      "Evaluating model TransE_WN18-RR_SGD\n",
      "Using cached dataset at data/WN18-RR\n",
      "Using pre-trained model at output/TransE_WN18-RR_SGD/checkpoint.keras\n"
     ]
    },
    {
     "name": "stderr",
     "output_type": "stream",
     "text": [
      "                                                    "
     ]
    },
    {
     "name": "stdout",
     "output_type": "stream",
     "text": [
      "- Training Loss        1.6620\n",
      "- Validation Loss      4.0798\n",
      "- Testing Loss         4.0174\n",
      "- MRR (Left)           0.0167\n",
      "- MRR (Right)          0.0288\n",
      "- MRR                  0.0228\n",
      "- Hits@10 (Left)       0.0352\n",
      "- Hits@10 (Right)      0.0622\n",
      "- Hits@10              0.0487\n",
      "================================================================================\n"
     ]
    },
    {
     "name": "stderr",
     "output_type": "stream",
     "text": [
      "\r"
     ]
    }
   ],
   "source": [
    "@tf.function\n",
    "def predict_head_scores(model, r, t):\n",
    "    '''\n",
    "    Predict the scores of all possible heads given a relation and a tail.\n",
    "    '''\n",
    "    r = tf.repeat(r, model.n_entities)\n",
    "    t = tf.repeat(t, model.n_entities)\n",
    "    h = tf.range(model.n_entities)\n",
    "    scores = model.score(tf.stack([h, r, t], axis=1))\n",
    "    return scores\n",
    "\n",
    "\n",
    "@tf.function\n",
    "def predict_tail_scores(model, h, r):\n",
    "    '''\n",
    "    Predict the scores of all possible tails given a head and a relation.\n",
    "    '''\n",
    "    h = tf.repeat(h, model.n_entities)\n",
    "    r = tf.repeat(r, model.n_entities)\n",
    "    t = tf.range(model.n_entities)\n",
    "    scores = model.score(tf.stack([h, r, t], axis=1))\n",
    "    return scores\n",
    "\n",
    "\n",
    "def compute_metrics(model, k, hrt, neg_filter: FalseNegFilter | None = None):\n",
    "    '''\n",
    "    Compute MRR and Hits@k.\n",
    "    '''\n",
    "\n",
    "    def func(i):\n",
    "        h, r, t = hrt[i, 0], hrt[i, 1], hrt[i, 2]\n",
    "        head_scores = predict_head_scores(model, r, t)\n",
    "        tail_scores = predict_tail_scores(model, h, r)\n",
    "\n",
    "        if neg_filter is not None:\n",
    "            head_mask = neg_filter.head_mask(h, r, t)\n",
    "            tail_mask = neg_filter.tail_mask(h, r, t)\n",
    "            head_scores = np.where(head_mask, -np.inf, head_scores)\n",
    "            tail_scores = np.where(tail_mask, -np.inf, tail_scores)\n",
    "\n",
    "        rank_left = np.sum(head_scores > head_scores[h])\n",
    "        rank_right = np.sum(tail_scores > tail_scores[t])\n",
    "        rr_left = 1 / (rank_left + 1)\n",
    "        rr_right = 1 / (rank_right + 1)\n",
    "        hits_left = rank_left < k\n",
    "        hits_right = rank_right < k\n",
    "        return rr_left, rr_right, hits_left, hits_right\n",
    "\n",
    "    mrr_left, mrr_right, hits_left, hits_right = zip(\n",
    "        *[func(i) for i in tqdm(range(len(hrt)), leave=False)]\n",
    "    )\n",
    "    return (\n",
    "        np.mean(mrr_left),\n",
    "        np.mean(mrr_right),\n",
    "        np.mean(hits_left),\n",
    "        np.mean(hits_right),\n",
    "    )\n",
    "\n",
    "\n",
    "# Evaluation\n",
    "for name, config in configs.items():\n",
    "    if DEBUG and name != 'DEBUG' or not DEBUG and name == 'DEBUG':\n",
    "        continue\n",
    "\n",
    "    print('=' * 80)\n",
    "    print(f'Evaluating model {name}')\n",
    "    ckpt_path = os.path.join('output', name, 'checkpoint.keras')\n",
    "    if not os.path.exists(ckpt_path):\n",
    "        print(f'No checkpoint found for model {name}, skipping')\n",
    "        continue\n",
    "\n",
    "    model, dataset, train_ds, val_ds, test_ds = run_experiment(name, config)\n",
    "    results = {}\n",
    "    results['Training Loss'] = model.evaluate(train_ds, verbose=0)\n",
    "    results['Validation Loss'] = model.evaluate(val_ds, verbose=0)\n",
    "    results['Testing Loss'] = model.evaluate(test_ds, verbose=0)\n",
    "    metrics = compute_metrics(\n",
    "        model, k=10, hrt=dataset.hrt_test, neg_filter=FalseNegFilter(dataset)\n",
    "    )\n",
    "    results['MRR (Left)'] = metrics[0]\n",
    "    results['MRR (Right)'] = metrics[1]\n",
    "    results['MRR'] = (metrics[0] + metrics[1]) / 2\n",
    "    results['Hits@10 (Left)'] = metrics[2]\n",
    "    results['Hits@10 (Right)'] = metrics[3]\n",
    "    results['Hits@10'] = (metrics[2] + metrics[3]) / 2\n",
    "    for k, v in results.items():\n",
    "        print(f'- {k:<20} {v:.4f}')\n",
    "print('=' * 80)"
   ]
  },
  {
   "attachments": {},
   "cell_type": "markdown",
   "metadata": {},
   "source": [
    "### Comparison\n",
    "\n",
    "We compare the performance of our trained model with the results from a relatively recent paper [(Nathani, et al. 2019)](https://doi.org/10.18653/v1/P19-1466)\n",
    ", which are marked with asterisks in the following table.\n",
    "\n",
    "|  Dataset  | Hits@10 (Ours) | Hits@10\\* | MRR (Ours) | MRR\\* |\n",
    "| :-------: | :------------: | :-------: | :--------: | :---: |\n",
    "| FB15k-237 |     0.445      |   0.441   |   0.278    | 0.279 |\n",
    "|  WN18-RR  |     0.532      |   0.532   |   0.248    | 0.243 |\n",
    "\n",
    "As we can see, our model reproduces the results on both the FB15k-237 and WN18-RR datasets, demonstrating the correctness of our implementation."
   ]
  },
  {
   "attachments": {},
   "cell_type": "markdown",
   "metadata": {},
   "source": [
    "### Disclaimer\n",
    "\n",
    "The results reported in the above table is obtained by running `train.ipynb` on the BitaHub server. On the other hand, the results in this notebook (`main.ipynb`) is trained on my local machine with a different hyperparameter setting, so you may see some slight differences in the printed information.\n",
    "\n",
    "You can refer to `train.ipynb` for the exact training procedure and the `config` folder for the exact hyperparameter setting."
   ]
  }
 ],
 "metadata": {
  "kernelspec": {
   "display_name": "base",
   "language": "python",
   "name": "python3"
  },
  "language_info": {
   "codemirror_mode": {
    "name": "ipython",
    "version": 3
   },
   "file_extension": ".py",
   "mimetype": "text/x-python",
   "name": "python",
   "nbconvert_exporter": "python",
   "pygments_lexer": "ipython3",
   "version": "3.10.10"
  },
  "orig_nbformat": 4
 },
 "nbformat": 4,
 "nbformat_minor": 2
}
