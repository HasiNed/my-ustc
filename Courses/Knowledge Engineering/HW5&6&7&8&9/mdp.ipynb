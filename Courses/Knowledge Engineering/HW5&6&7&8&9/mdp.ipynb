{
 "cells": [
  {
   "cell_type": "code",
   "execution_count": 14,
   "metadata": {},
   "outputs": [
    {
     "data": {
      "text/plain": [
       "array([[ 2.29483283],\n",
       "       [ 4.77203647],\n",
       "       [10.        ],\n",
       "       [ 0.        ]])"
      ]
     },
     "execution_count": 14,
     "metadata": {},
     "output_type": "execute_result"
    }
   ],
   "source": [
    "import numpy as np\n",
    "\n",
    "P = np.array(\n",
    "    [\n",
    "        [0, 1, 0, 0],\n",
    "        [0.2, 0.2, 0.5, 0.1],\n",
    "        [0, 0, 0, 1],\n",
    "        [0, 0, 0, 1],\n",
    "    ]\n",
    ")\n",
    "R = np.array([[-2], [-1], [10], [0]])\n",
    "gamma = 0.9\n",
    "V = np.linalg.inv(np.eye(4) - gamma * P) @ R\n",
    "V"
   ]
  },
  {
   "cell_type": "code",
   "execution_count": 42,
   "metadata": {},
   "outputs": [
    {
     "name": "stdout",
     "output_type": "stream",
     "text": [
      "|  $\\gamma$  |    $\\mathbf{V}^*$     |     $\\pi^*$     |\n",
      "|:----------:|:---------------------:|:---------------:|\n",
      "|    0.1     |     (0, 0, 10, 0)     |      Quit       |\n",
      "|    0.2     |     (0, 0, 10, 0)     |      Quit       |\n",
      "|    0.3     |   (0, 0.532, 10, 0)   |      Quit       |\n",
      "|    0.4     |   (0, 1.09, 10, 0)    |      Quit       |\n",
      "|    0.5     |   (0, 1.67, 10, 0)    |      Quit       |\n",
      "|    0.6     |   (0, 2.27, 10, 0)    |      Quit       |\n",
      "|    0.7     | (0.0394, 2.91, 10, 0) | (Study, Defend) |\n",
      "|    0.8     |  (1.01, 3.76, 10, 0)  | (Study, Defend) |\n",
      "|    0.9     |  (2.29, 4.77, 10, 0)  | (Study, Defend) |\n",
      "|     1      |     (4, 6, 10, 0)     | (Study, Defend) |\n"
     ]
    }
   ],
   "source": [
    "from tabulate import tabulate\n",
    "\n",
    "# Value Iteration\n",
    "P = np.array(\n",
    "    [\n",
    "        [[0, 1, 0, 0], [0, 0, 0, 1]],  # (Study, Quit)\n",
    "        [[0.2, 0.2, 0.5, 0.1], [0, 0, 0, 1]],  # (Defend, Quit)\n",
    "        [[0, 0, 0, 1], [0, 0, 0, 1]],\n",
    "        [[0, 0, 0, 1], [0, 0, 0, 1]],\n",
    "    ]\n",
    ")  # (s, a, s')\n",
    "R = np.array([[-2, 0], [-1, 0], [10, -np.inf], [0, -np.inf]])  # (s, a)\n",
    "\n",
    "\n",
    "def vi(gamma):\n",
    "    V = np.zeros(4)\n",
    "    for _ in range(100):\n",
    "        Q = R + gamma * P @ V\n",
    "        V = np.max(Q, axis=1)\n",
    "        pi = np.argmax(Q, axis=1)\n",
    "    V = ', '.join([f'{v:.3g}' for v in V])\n",
    "    V = f'({V})'\n",
    "    if pi[0] == 0 and pi[1] == 0:\n",
    "        pi = '(Study, Defend)'\n",
    "    elif pi[0] == 0 and pi[1] == 1:\n",
    "        pi = '(Study, Quit)'\n",
    "    elif pi[0] == 1:\n",
    "        pi = 'Quit'\n",
    "    return V, pi\n",
    "\n",
    "\n",
    "print(\n",
    "    tabulate(\n",
    "        [(gamma, *vi(gamma)) for gamma in np.arange(0.1, 1.1, 0.1)],\n",
    "        headers=['$\\gamma$', '$\\mathbf{V}^*$', '$\\pi^*$'],\n",
    "        colalign=('center', 'center', 'center'),\n",
    "        tablefmt='pipe',\n",
    "    )\n",
    ")"
   ]
  }
 ],
 "metadata": {
  "kernelspec": {
   "display_name": "base",
   "language": "python",
   "name": "python3"
  },
  "language_info": {
   "codemirror_mode": {
    "name": "ipython",
    "version": 3
   },
   "file_extension": ".py",
   "mimetype": "text/x-python",
   "name": "python",
   "nbconvert_exporter": "python",
   "pygments_lexer": "ipython3",
   "version": "3.10.10"
  },
  "orig_nbformat": 4
 },
 "nbformat": 4,
 "nbformat_minor": 2
}
