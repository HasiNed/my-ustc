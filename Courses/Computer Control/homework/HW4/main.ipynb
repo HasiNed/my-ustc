{
 "cells": [
  {
   "cell_type": "code",
   "execution_count": 18,
   "metadata": {},
   "outputs": [],
   "source": [
    "import sympy\n",
    "import control\n",
    "import numpy as np\n",
    "import matplotlib.pyplot as plt\n",
    "import gradio\n",
    "from sympy import E\n",
    "from sympy import print_latex\n",
    "from sympy.parsing.latex import parse_latex\n",
    "\n",
    "s, z = sympy.var('s z')\n",
    "t, T, K = sympy.var('t T K', positive=True)\n",
    "k = sympy.var('k', nteger=True)\n"
   ]
  },
  {
   "cell_type": "code",
   "execution_count": 2,
   "metadata": {},
   "outputs": [
    {
     "name": "stdout",
     "output_type": "stream",
     "text": [
      "\\frac{1}{s + 1} - \\frac{1}{s} + \\frac{1}{s^{2}}\n"
     ]
    },
    {
     "data": {
      "text/latex": [
       "$\\displaystyle \\frac{1}{s + 1} - \\frac{1}{s} + \\frac{1}{s^{2}}$"
      ],
      "text/plain": [
       "1/(s + 1) - 1/s + s**(-2)"
      ]
     },
     "execution_count": 2,
     "metadata": {},
     "output_type": "execute_result"
    }
   ],
   "source": [
    "sys = 1 / (s**2 * (s + 1))\n",
    "sys = sys.apart()\n",
    "print_latex(sys)\n",
    "sys"
   ]
  },
  {
   "cell_type": "code",
   "execution_count": 3,
   "metadata": {},
   "outputs": [],
   "source": [
    "# def Z(expr):\n",
    "#     return sympy.summation(expr * z**(-k), (k, 0, sympy.oo))\n",
    "\n",
    "\n",
    "# def L(expr):\n",
    "#     return sympy.laplace_transform(expr, t, s)\n",
    "\n",
    "\n",
    "# def invL(expr):\n",
    "#     return sympy.inverse_laplace_transform(expr, s, t)\n",
    "\n",
    "\n",
    "# def sample(expr):\n",
    "#     return expr.subs(t, k * T)\n",
    "\n",
    "\n",
    "# Z(sample(invL(sys)))"
   ]
  },
  {
   "cell_type": "code",
   "execution_count": 4,
   "metadata": {},
   "outputs": [
    {
     "name": "stdout",
     "output_type": "stream",
     "text": [
      "\\left[ K \\left(5 T e + 5 e - 5\\right), \\  K \\left(- 15 T e - 5 T - 20 e + 20\\right), \\  K \\left(15 T + 15 e - 15\\right), \\  0\\right]\n",
      "\\left[ e, \\  - e - 1, \\  1\\right]\n"
     ]
    },
    {
     "data": {
      "text/latex": [
       "$\\displaystyle \\frac{5 K p \\left(p - 3\\right) \\left(T e p - T + e p - e - p + 1\\right)}{e p^{2} - e p - p + 1}$"
      ],
      "text/plain": [
       "5*K*p*(p - 3)*(T*e*p - T + e*p - e - p + 1)/(e*p**2 - e*p - p + 1)"
      ]
     },
     "metadata": {},
     "output_type": "display_data"
    },
    {
     "name": "stdout",
     "output_type": "stream",
     "text": [
      "\\left[ K \\left(5 T e + 5 e - 5\\right), \\  K \\left(- 15 T e - 5 T - 20 e + 20\\right), \\  K \\left(15 T + 15 e - 15\\right), \\  0\\right]\n",
      "\\left[ K \\left(5 T e + 5 e - 5\\right), \\  K \\left(- 15 T e - 5 T - 20 e + 20\\right) + e, \\  K \\left(15 T + 15 e - 15\\right) - e - 1, \\  1\\right]\n"
     ]
    },
    {
     "data": {
      "text/latex": [
       "$\\displaystyle \\frac{5 K p \\left(p - 3\\right) \\left(T e p - T + e p - e - p + 1\\right)}{5 K p \\left(p - 3\\right) \\left(T e p - T + e p - e - p + 1\\right) + e p^{2} - e p - p + 1}$"
      ],
      "text/plain": [
       "5*K*p*(p - 3)*(T*e*p - T + e*p - e - p + 1)/(5*K*p*(p - 3)*(T*e*p - T + e*p - e - p + 1) + e*p**2 - e*p - p + 1)"
      ]
     },
     "metadata": {},
     "output_type": "display_data"
    }
   ],
   "source": [
    "# e := e^-T, p := z^-1\n",
    "e, p = sympy.var('e p')\n",
    "\n",
    "D = K * (15 - 5 * p)\n",
    "\n",
    "G = (1 - p) * (1 / (1 - e * p) - 1 / (1 - p) + T * p / (1 - p)**2)\n",
    "G = G.simplify()\n",
    "\n",
    "Wo = D * G\n",
    "Wo = Wo.simplify()\n",
    "Wo_num = sympy.numer(Wo).as_poly(p)\n",
    "Wo_den = sympy.denom(Wo).as_poly(p)\n",
    "\n",
    "num = [c.collect(K) for c in Wo_num.all_coeffs()]\n",
    "den = [c.collect(K) for c in Wo_den.all_coeffs()]\n",
    "print_latex(num)\n",
    "print_latex(den)\n",
    "display(Wo)\n",
    "\n",
    "Wc = Wo / (1 + Wo)\n",
    "Wc = Wc.simplify()\n",
    "Wc_num = sympy.numer(Wc).as_poly(p)\n",
    "Wc_den = sympy.denom(Wc).as_poly(p)\n",
    "\n",
    "num = [c.collect(K) for c in Wc_num.all_coeffs()]\n",
    "den = [c.collect(K) for c in Wc_den.all_coeffs()]\n",
    "print_latex(num)\n",
    "print_latex(den)\n",
    "display(Wc)"
   ]
  },
  {
   "cell_type": "code",
   "execution_count": 5,
   "metadata": {},
   "outputs": [
    {
     "name": "stdout",
     "output_type": "stream",
     "text": [
      "\\left[ K \\left(- 20 T e - 20 T - 40 e + 40\\right) + 2 e + 2, \\  K \\left(30 T e - 10 T + 20 e - 20\\right) + 4, \\  K \\left(20 T + 20 e - 20\\right) - 2 e + 2, \\  K \\left(- 10 T e + 10 T\\right)\\right]\n"
     ]
    },
    {
     "data": {
      "text/latex": [
       "$\\displaystyle \\operatorname{Poly}{\\left( \\left(- 20 K T e - 20 K T - 40 K e + 40 K + 2 e + 2\\right) w^{3} + \\left(30 K T e - 10 K T + 20 K e - 20 K + 4\\right) w^{2} + \\left(20 K T + 20 K e - 20 K - 2 e + 2\\right) w -  10 K T e + 10 K T, w, domain=\\mathbb{Z}\\left[e, K, T\\right] \\right)}$"
      ],
      "text/plain": [
       "Poly((-20*K*T*e - 20*K*T - 40*K*e + 40*K + 2*e + 2)*w**3 + (30*K*T*e - 10*K*T + 20*K*e - 20*K + 4)*w**2 + (20*K*T + 20*K*e - 20*K - 2*e + 2)*w - 10*K*T*e + 10*K*T, w, domain='ZZ[e,K,T]')"
      ]
     },
     "execution_count": 5,
     "metadata": {},
     "output_type": "execute_result"
    }
   ],
   "source": [
    "w = sympy.var('w')\n",
    "\n",
    "Wcw = Wc.subs(p, (1 - w) / (1 + w)).simplify()\n",
    "poly = sympy.denom(Wcw).as_poly(w)\n",
    "\n",
    "coef = [c.collect(K) for c in poly.all_coeffs()]\n",
    "print_latex(coef)\n",
    "poly"
   ]
  },
  {
   "cell_type": "code",
   "execution_count": 6,
   "metadata": {},
   "outputs": [
    {
     "name": "stdout",
     "output_type": "stream",
     "text": [
      "\\frac{K \\left(T \\left(e^{T} z - 1\\right) + e^{T} \\left(z - 1\\right)^{2} - \\left(z - 1\\right) \\left(e^{T} z - 1\\right)\\right) R{\\left(s \\right)}}{\\left(z - 1\\right) \\left(e^{T} z - 1\\right) \\left(K{\\left(\\frac{T e^{T} z - T - e^{T} z + e^{T} + z - 1}{e^{T} z^{2} - e^{T} z - z + 1} \\right)} + 1\\right)}\n"
     ]
    },
    {
     "data": {
      "text/latex": [
       "$\\displaystyle \\frac{K \\left(T \\left(e^{T} z - 1\\right) + e^{T} \\left(z - 1\\right)^{2} - \\left(z - 1\\right) \\left(e^{T} z - 1\\right)\\right) R{\\left(s \\right)}}{\\left(z - 1\\right) \\left(e^{T} z - 1\\right) \\left(K{\\left(\\frac{T e^{T} z - T - e^{T} z + e^{T} + z - 1}{e^{T} z^{2} - e^{T} z - z + 1} \\right)} + 1\\right)}$"
      ],
      "text/plain": [
       "K*(T*(e**T*z - 1) + e**T*(z - 1)**2 - (z - 1)*(e**T*z - 1))*R(s)/((z - 1)*(e**T*z - 1)*(K((T*e**T*z - T - e**T*z + e**T + z - 1)/(e**T*z**2 - e**T*z - z + 1)) + 1))"
      ]
     },
     "execution_count": 6,
     "metadata": {},
     "output_type": "execute_result"
    }
   ],
   "source": [
    "N = poly.degree(w)\n",
    "\n",
    "A = sympy.zeros(N)\n",
    "A[0] = [coef[0], coef[1]]\n",
    "A[1] = [coef[2]]\n",
    "\n",
    "for i in range(2, N):\n",
    "    for j in range(0, N - i):\n",
    "        A[i, j] = A[i - 2, j + 1] - A[i - 2, 0] * A[i - 1, j + 1] / A[i - 1, 0]\n",
    "        A[i, j] = A[i, j].simplify()\n",
    "\n",
    "A"
   ]
  },
  {
   "cell_type": "code",
   "execution_count": 24,
   "metadata": {},
   "outputs": [
    {
     "data": {
      "text/latex": [
       "$\\displaystyle \\frac{z \\left(- e - z^{2} + z \\left(e + 1\\right)\\right)}{5 K \\left(3 z - 1\\right) \\left(T e + e + z \\left(- T - e + 1\\right) - 1\\right) - e z - z^{3} + z^{2} \\left(e + 1\\right)}$"
      ],
      "text/plain": [
       "z*(-e - z**2 + z*(e + 1))/(5*K*(3*z - 1)*(T*e + e + z*(-T - e + 1) - 1) - e*z - z**3 + z**2*(e + 1))"
      ]
     },
     "execution_count": 24,
     "metadata": {},
     "output_type": "execute_result"
    }
   ],
   "source": [
    "Ec = 1 / (1 + Wo)\n",
    "Ec = Ec.simplify()\n",
    "sys = Ec.subs(p, 1 / z).simplify()\n",
    "sys_num = sympy.numer(sys).as_poly(z)\n",
    "sys_den = sympy.denom(sys).as_poly(z)\n",
    "sys"
   ]
  },
  {
   "cell_type": "code",
   "execution_count": 39,
   "metadata": {},
   "outputs": [
    {
     "name": "stderr",
     "output_type": "stream",
     "text": [
      "/Users/hasined/.pyenv/versions/3.10.4/lib/python3.10/site-packages/gradio/blocks.py:155: UserWarning: api_name predict already exists, using predict_1\n",
      "  warnings.warn(\n",
      "/Users/hasined/.pyenv/versions/3.10.4/lib/python3.10/site-packages/gradio/blocks.py:155: UserWarning: api_name predict already exists, using predict_2\n",
      "  warnings.warn(\n",
      "/Users/hasined/.pyenv/versions/3.10.4/lib/python3.10/site-packages/gradio/blocks.py:155: UserWarning: api_name predict already exists, using predict_3\n",
      "  warnings.warn(\n",
      "/Users/hasined/.pyenv/versions/3.10.4/lib/python3.10/site-packages/gradio/blocks.py:155: UserWarning: api_name predict already exists, using predict_4\n",
      "  warnings.warn(\n"
     ]
    },
    {
     "name": "stdout",
     "output_type": "stream",
     "text": [
      "Running on local URL:  http://127.0.0.1:7883\n",
      "\n",
      "To create a public link, set `share=True` in `launch()`.\n"
     ]
    },
    {
     "data": {
      "text/html": [
       "<div><iframe src=\"http://127.0.0.1:7883/\" width=\"1560\" height=\"500\" allow=\"autoplay; camera; microphone; clipboard-read; clipboard-write;\" frameborder=\"0\" allowfullscreen></iframe></div>"
      ],
      "text/plain": [
       "<IPython.core.display.HTML object>"
      ]
     },
     "metadata": {},
     "output_type": "display_data"
    },
    {
     "data": {
      "text/plain": [
       "(<gradio.routes.App at 0x16c8749d0>, 'http://127.0.0.1:7883/', None)"
      ]
     },
     "execution_count": 39,
     "metadata": {},
     "output_type": "execute_result"
    }
   ],
   "source": [
    "def interface(k, t, p, v, a):\n",
    "    dict = {K: k, T: t, e: E**-t}\n",
    "    num = [float(a.subs(dict)) for a in sys_num.all_coeffs()]\n",
    "    den = [float(a.subs(dict)) for a in sys_den.all_coeffs()]\n",
    "    tf = control.tf(num, den, t)\n",
    "    ts = np.arange(0, 20, t)\n",
    "    us = p + v * ts + a / 2 * ts**2\n",
    "    ts, ys = control.forced_response(tf, ts, us)\n",
    "    fig = plt.figure(figsize=(8, 4))\n",
    "    plt.stem(ts, ys)\n",
    "    plt.close()\n",
    "    return fig\n",
    "\n",
    "\n",
    "gradio.Interface(interface, [\n",
    "    gradio.Slider(0.1, 10, 1),\n",
    "    gradio.Slider(0.1, 1, 0.2),\n",
    "    gradio.Slider(0, 5, 1),\n",
    "    gradio.Slider(0, 5, 2),\n",
    "    gradio.Slider(0, 5, 0)\n",
    "],\n",
    "                 gradio.Plot(elem_id='plot'),\n",
    "                 live=True).launch(width=1560)\n"
   ]
  }
 ],
 "metadata": {
  "kernelspec": {
   "display_name": "Python 3",
   "language": "python",
   "name": "python3"
  },
  "language_info": {
   "codemirror_mode": {
    "name": "ipython",
    "version": 3
   },
   "file_extension": ".py",
   "mimetype": "text/x-python",
   "name": "python",
   "nbconvert_exporter": "python",
   "pygments_lexer": "ipython3",
   "version": "3.10.8 (main, Nov 28 2022, 22:32:15) [Clang 14.0.0 (clang-1400.0.29.202)]"
  },
  "orig_nbformat": 4,
  "vscode": {
   "interpreter": {
    "hash": "d25da615e19396787fe4ca1ac6e145a6d087d3a93322fbf7b59c4188e44aa5c8"
   }
  }
 },
 "nbformat": 4,
 "nbformat_minor": 2
}
