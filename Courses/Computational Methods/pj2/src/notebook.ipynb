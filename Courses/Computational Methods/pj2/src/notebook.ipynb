{
 "cells": [
  {
   "cell_type": "code",
   "execution_count": null,
   "metadata": {},
   "outputs": [],
   "source": [
    "import numpy as np\n",
    "import matplotlib as mpl\n",
    "import matplotlib.pyplot as plt\n",
    "from math import log\n",
    "\n",
    "mpl.rc('font', family='serif', size=15)\n",
    "mpl.rc('text', usetex=True)"
   ]
  },
  {
   "cell_type": "code",
   "execution_count": null,
   "metadata": {},
   "outputs": [],
   "source": [
    "def simpson(f, a, b, n):\n",
    "    h = (b - a) / n\n",
    "    s = f(a) + f(b)\n",
    "    for i in range(1, n):\n",
    "        if i % 2 == 0:\n",
    "            s += 2 * f(a + i * h)\n",
    "        else:\n",
    "            s += 4 * f(a + i * h)\n",
    "    return h * s / 3\n",
    "\n",
    "\n",
    "def adaptive_simpson(f, a, b, M=100, eps=0, print_flag=False):\n",
    "    k = 0\n",
    "    S1 = simpson(f, a, b, 1)\n",
    "    S2 = float('inf')\n",
    "    if print_flag: print(f'1,{S1},')\n",
    "    while abs(S1 - S2) >= 15 * eps and k < M - 1:\n",
    "        k += 1\n",
    "        S2 = S1\n",
    "        S1 = simpson(f, a, b, 2**k)\n",
    "        if print_flag: print(f'{2**k},{S1},{abs(S1-S2)/15}')\n",
    "    return S1\n",
    "\n",
    "\n",
    "print(adaptive_simpson(log, 1, 2, M=5, print_flag=True))\n"
   ]
  },
  {
   "cell_type": "code",
   "execution_count": null,
   "metadata": {},
   "outputs": [],
   "source": [
    "x_range = np.linspace(1, 100, 100)\n",
    "fig, ax = plt.subplots(figsize=(8, 4), constrained_layout=True)\n",
    "ax.plot(x_range, [simpson(log, 1, x, 1) for x in x_range],\n",
    "        label=r'$S_1(\\ln{x})$')\n",
    "ax.plot(x_range, [simpson(log, 1, x, 2) for x in x_range],\n",
    "        label=r'$S_2(\\ln{x})$')\n",
    "ax.plot(x_range, [simpson(log, 1, x, 4) for x in x_range],\n",
    "        label=r'$S_4(\\ln{x})$')\n",
    "ax.plot(x_range, [simpson(log, 1, x, 8) for x in x_range],\n",
    "        label=r'$S_8(\\ln{x})$')\n",
    "ax.plot(x_range, [adaptive_simpson(log, 1, x, eps=1e-4) for x in x_range],\n",
    "        label=r'$S_n(\\ln{x})$')\n",
    "ax.set_xticks(np.append(ax.get_xticks(), 1))\n",
    "ax.set_xlim(1, 100)\n",
    "ax.set_ylim(0)\n",
    "ax.set_xlabel(r'$b$')\n",
    "ax.set_ylabel(r'$y$')\n",
    "ax.grid()\n",
    "ax.legend()\n",
    "fig.savefig('../assets/output/simpson.pdf')"
   ]
  },
  {
   "cell_type": "code",
   "execution_count": null,
   "metadata": {},
   "outputs": [],
   "source": [
    "def trapezoid(f, a, b, n):\n",
    "    h = (b - a) / n\n",
    "    s = f(a) + f(b)\n",
    "    for i in range(1, n):\n",
    "        s += 2 * f(a + i * h)\n",
    "    return h * s / 2\n",
    "\n",
    "\n",
    "def adaptive_trapezoid(f, a, b, M=100, eps=0.0, print_flag=False):\n",
    "    k = 0\n",
    "    T1 = trapezoid(f, a, b, 1)\n",
    "    T2 = float('inf')\n",
    "    if print_flag: print(f'1,{T1},')\n",
    "    while abs(T1 - T2) >= 3 * eps and k < M - 1:\n",
    "        k += 1\n",
    "        T2 = T1\n",
    "        T1 = trapezoid(f, a, b, 2**k)\n",
    "        if print_flag: print(f'{2**k},{T1},{abs(T1-T2)/3}')\n",
    "    return T1\n",
    "print(adaptive_trapezoid(log, 1, 2, eps=1e-4, print_flag=True))"
   ]
  },
  {
   "cell_type": "code",
   "execution_count": null,
   "metadata": {},
   "outputs": [],
   "source": []
  },
  {
   "cell_type": "code",
   "execution_count": null,
   "metadata": {},
   "outputs": [],
   "source": [
    "x_range = np.linspace(1, 100, 100)\n",
    "fig, ax = plt.subplots(figsize=(8, 4), constrained_layout=True)\n",
    "ax.plot(x_range, [trapezoid(log, 1, x, 1) for x in x_range],\n",
    "        label=r'$T_1(\\ln{x})$')\n",
    "ax.plot(x_range, [trapezoid(log, 1, x, 2) for x in x_range],\n",
    "        label=r'$T_2(\\ln{x})$')\n",
    "ax.plot(x_range, [trapezoid(log, 1, x, 4) for x in x_range],\n",
    "        label=r'$T_4(\\ln{x})$')\n",
    "ax.plot(x_range, [trapezoid(log, 1, x, 8) for x in x_range],\n",
    "        label=r'$T_8(\\ln{x})$')\n",
    "ax.plot(x_range, [adaptive_trapezoid(log, 1, x, eps=1e-4) for x in x_range],\n",
    "        label=r'$T_n(\\ln{x})$')\n",
    "ax.set_xticks(np.append(ax.get_xticks(), 1))\n",
    "ax.set_xlim(1, 100)\n",
    "ax.set_ylim(0)\n",
    "ax.set_xlabel(r'$b$')\n",
    "ax.set_ylabel(r'$y$')\n",
    "ax.grid()\n",
    "ax.legend()\n",
    "fig.savefig('../assets/output/trapezoid.pdf')"
   ]
  },
  {
   "cell_type": "code",
   "execution_count": null,
   "metadata": {},
   "outputs": [],
   "source": [
    "def romberg(f, a, b, M=100, eps=0.0, print_flag=False):\n",
    "    k = 0\n",
    "    R = [[float('inf')], [trapezoid(f, a, b, 1)]]\n",
    "    if print_flag: print(f'1,{R[1]}')\n",
    "    while abs(R[0][k - 1] - R[1][k]) >= eps and k < M - 1:\n",
    "        k += 1\n",
    "        R[0] = R[1]\n",
    "        R[1] = [trapezoid(f, a, b, 2**k)]\n",
    "        for j in range(1, k + 1):\n",
    "            R[1].append((4**j * R[1][j - 1] - R[0][j - 1]) / (4**j - 1))\n",
    "        if print_flag: print(f'{k+1},{R[1]},{abs(R[0][k - 1] - R[1][k])}')\n",
    "    return R[1][k]\n",
    "\n",
    "\n",
    "romberg(log, 1, 2, eps=1e-4, print_flag=True)\n"
   ]
  },
  {
   "cell_type": "code",
   "execution_count": null,
   "metadata": {},
   "outputs": [],
   "source": [
    "x_range = np.linspace(1, 100, 100)\n",
    "fig, ax = plt.subplots(figsize=(8, 4), constrained_layout=True)\n",
    "ax.plot(x_range, [romberg(log, 1, x, M=1) for x in x_range],\n",
    "        label=r'$R_{1,1}(\\ln{x})$')\n",
    "ax.plot(x_range, [romberg(log, 1, x, M=2) for x in x_range],\n",
    "        label=r'$R_{2,2}(\\ln{x})$')\n",
    "ax.plot(x_range, [romberg(log, 1, x, M=3) for x in x_range],\n",
    "        label=r'$R_{3,3}(\\ln{x})$')\n",
    "ax.plot(x_range, [romberg(log, 1, x, eps=1e-4) for x in x_range],\n",
    "        label=r'$R_{k,k}(\\ln{x})$')\n",
    "ax.set_xticks(np.append(ax.get_xticks(), 1))\n",
    "ax.set_xlim(1, 100)\n",
    "ax.set_ylim(0)\n",
    "ax.set_xlabel(r'$b$')\n",
    "ax.set_ylabel(r'$y$')\n",
    "ax.grid()\n",
    "ax.legend()\n",
    "fig.savefig('../assets/output/romberg.pdf')"
   ]
  },
  {
   "cell_type": "code",
   "execution_count": null,
   "metadata": {},
   "outputs": [],
   "source": [
    "from numpy.polynomial.legendre import leggauss\n",
    "\n",
    "\n",
    "def gauss_legendre(f, a, b, n):\n",
    "    x, w = leggauss(n)\n",
    "    return (b - a) / 2 * sum(\n",
    "        [w[i] * f((a + b + (b - a) * x[i]) / 2) for i in range(n)])\n"
   ]
  },
  {
   "cell_type": "code",
   "execution_count": null,
   "metadata": {},
   "outputs": [],
   "source": [
    "print(gauss_legendre(lambda x: x**5 + x, -3, 1, 1))\n",
    "print(gauss_legendre(lambda x: x**5 + x, -3, 1, 2))\n",
    "print(gauss_legendre(lambda x: x**5 + x, -3, 1, 3))\n",
    "print(gauss_legendre(lambda x: x**5 + x, -3, 1, 4))\n",
    "print(gauss_legendre(log, 1, 2, 1))\n",
    "print(gauss_legendre(log, 1, 2, 2))\n",
    "print(gauss_legendre(log, 1, 2, 3))\n",
    "print(gauss_legendre(log, 1, 2, 4))"
   ]
  },
  {
   "cell_type": "code",
   "execution_count": null,
   "metadata": {},
   "outputs": [],
   "source": [
    "x_range = np.linspace(1, 100, 100)\n",
    "fig, ax = plt.subplots(figsize=(8, 4), constrained_layout=True)\n",
    "ax.plot(x_range, [gauss_legendre(log, 1, x, 1) for x in x_range],\n",
    "        label=r'$G_1(\\ln{x})$')\n",
    "ax.plot(x_range, [gauss_legendre(log, 1, x, 2) for x in x_range],\n",
    "        label=r'$G_2(\\ln{x})$')\n",
    "ax.plot(x_range, [gauss_legendre(log, 1, x, 3) for x in x_range],\n",
    "        label=r'$G_3(\\ln{x})$')\n",
    "ax.plot(x_range, [gauss_legendre(log, 1, x, 4) for x in x_range],\n",
    "        label=r'$G_4(\\ln{x})$')\n",
    "ax.set_xticks(np.append(ax.get_xticks(), 1))\n",
    "ax.set_xlim(1, 100)\n",
    "ax.set_ylim(0)\n",
    "ax.set_xlabel(r'$b$')\n",
    "ax.set_ylabel(r'$y$')\n",
    "ax.grid()\n",
    "ax.legend()\n",
    "fig.savefig('../assets/output/gauss-legendre.pdf')"
   ]
  }
 ],
 "metadata": {
  "interpreter": {
   "hash": "28cb11107678bcb0b39ec70e1a9eef5d6e7ce72ec5f8f92dd95c6c8526e65ce0"
  },
  "kernelspec": {
   "display_name": "Python 3.10.3 64-bit ('3.10.3')",
   "language": "python",
   "name": "python3"
  },
  "language_info": {
   "codemirror_mode": {
    "name": "ipython",
    "version": 3
   },
   "file_extension": ".py",
   "mimetype": "text/x-python",
   "name": "python",
   "nbconvert_exporter": "python",
   "pygments_lexer": "ipython3",
   "version": "3.10.3"
  },
  "orig_nbformat": 4
 },
 "nbformat": 4,
 "nbformat_minor": 2
}
