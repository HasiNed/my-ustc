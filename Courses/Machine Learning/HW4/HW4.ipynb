{
 "cells": [
  {
   "cell_type": "code",
   "execution_count": 13,
   "metadata": {},
   "outputs": [
    {
     "data": {
      "text/latex": [
       "$\\displaystyle \\log{\\left(e^{x} + e^{y} + e^{z} \\right)}$"
      ],
      "text/plain": [
       "log(exp(x) + exp(y) + exp(z))"
      ]
     },
     "metadata": {},
     "output_type": "display_data"
    },
    {
     "data": {
      "text/latex": [
       "$\\displaystyle \\left[\\begin{matrix}\\frac{e^{x}}{e^{x} + e^{y} + e^{z}}\\\\\\frac{e^{y}}{e^{x} + e^{y} + e^{z}}\\\\\\frac{e^{z}}{e^{x} + e^{y} + e^{z}}\\end{matrix}\\right]$"
      ],
      "text/plain": [
       "Matrix([\n",
       "[exp(x)/(exp(x) + exp(y) + exp(z))],\n",
       "[exp(y)/(exp(x) + exp(y) + exp(z))],\n",
       "[exp(z)/(exp(x) + exp(y) + exp(z))]])"
      ]
     },
     "metadata": {},
     "output_type": "display_data"
    },
    {
     "data": {
      "text/latex": [
       "$\\displaystyle \\left[\\begin{matrix}\\frac{e^{x}}{e^{x} + e^{y} + e^{z}} - \\frac{e^{2 x}}{\\left(e^{x} + e^{y} + e^{z}\\right)^{2}} & - \\frac{e^{x} e^{y}}{\\left(e^{x} + e^{y} + e^{z}\\right)^{2}} & - \\frac{e^{x} e^{z}}{\\left(e^{x} + e^{y} + e^{z}\\right)^{2}}\\\\- \\frac{e^{x} e^{y}}{\\left(e^{x} + e^{y} + e^{z}\\right)^{2}} & \\frac{e^{y}}{e^{x} + e^{y} + e^{z}} - \\frac{e^{2 y}}{\\left(e^{x} + e^{y} + e^{z}\\right)^{2}} & - \\frac{e^{y} e^{z}}{\\left(e^{x} + e^{y} + e^{z}\\right)^{2}}\\\\- \\frac{e^{x} e^{z}}{\\left(e^{x} + e^{y} + e^{z}\\right)^{2}} & - \\frac{e^{y} e^{z}}{\\left(e^{x} + e^{y} + e^{z}\\right)^{2}} & \\frac{e^{z}}{e^{x} + e^{y} + e^{z}} - \\frac{e^{2 z}}{\\left(e^{x} + e^{y} + e^{z}\\right)^{2}}\\end{matrix}\\right]$"
      ],
      "text/plain": [
       "Matrix([\n",
       "[exp(x)/(exp(x) + exp(y) + exp(z)) - exp(2*x)/(exp(x) + exp(y) + exp(z))**2,                               -exp(x)*exp(y)/(exp(x) + exp(y) + exp(z))**2,                               -exp(x)*exp(z)/(exp(x) + exp(y) + exp(z))**2],\n",
       "[                              -exp(x)*exp(y)/(exp(x) + exp(y) + exp(z))**2, exp(y)/(exp(x) + exp(y) + exp(z)) - exp(2*y)/(exp(x) + exp(y) + exp(z))**2,                               -exp(y)*exp(z)/(exp(x) + exp(y) + exp(z))**2],\n",
       "[                              -exp(x)*exp(z)/(exp(x) + exp(y) + exp(z))**2,                               -exp(y)*exp(z)/(exp(x) + exp(y) + exp(z))**2, exp(z)/(exp(x) + exp(y) + exp(z)) - exp(2*z)/(exp(x) + exp(y) + exp(z))**2]])"
      ]
     },
     "metadata": {},
     "output_type": "display_data"
    }
   ],
   "source": [
    "from sympy import *\n",
    "from sympy.abc import x, y, z\n",
    "\n",
    "# LogSumExp\n",
    "f = log(exp(x) + exp(y) + exp(z))\n",
    "display(f)\n",
    "\n",
    "# Gradient\n",
    "g = Matrix([diff(f, x), diff(f, y), diff(f, z)])\n",
    "display(g)\n",
    "\n",
    "# Hessian\n",
    "h = hessian(f, (x, y, z))\n",
    "display(h)"
   ]
  }
 ],
 "metadata": {
  "kernelspec": {
   "display_name": "Python 3.10.4 64-bit ('3.10.4')",
   "language": "python",
   "name": "python3"
  },
  "language_info": {
   "codemirror_mode": {
    "name": "ipython",
    "version": 3
   },
   "file_extension": ".py",
   "mimetype": "text/x-python",
   "name": "python",
   "nbconvert_exporter": "python",
   "pygments_lexer": "ipython3",
   "version": "3.10.4"
  },
  "orig_nbformat": 4,
  "vscode": {
   "interpreter": {
    "hash": "da563ac3f3c43dcecc985b3c1bb9663c5549da521f2a920726bfea31fc2d80c2"
   }
  }
 },
 "nbformat": 4,
 "nbformat_minor": 2
}
